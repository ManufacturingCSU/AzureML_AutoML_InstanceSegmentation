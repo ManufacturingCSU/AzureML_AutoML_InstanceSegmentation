{
 "cells": [
  {
   "cell_type": "markdown",
   "id": "5b63d843-2dcf-4dab-83aa-5c5512c90764",
   "metadata": {},
   "source": [
    "# 02. Azure ML Pipeline Creation - AutoML for Images (Instance Segmentation)\n",
    "This notebook demonstrates creation of an Azure ML pipeline designed to load a labeled image dataset from an Azure Machine Learning workspace, to submit an AutoML for Images run to train a new instance segmentation model, and to register that model into the workspace. <i>Run this notebook after running </i>`01_Setup_AML_Env.ipynb`."
   ]
  },
  {
   "cell_type": "markdown",
   "id": "57b73403-35bb-4a51-977f-49739189c3a3",
   "metadata": {},
   "source": [
    "### Import required packages"
   ]
  },
  {
   "cell_type": "code",
   "execution_count": null,
   "id": "6e654495-da23-4b48-bd7e-58b7f9296214",
   "metadata": {},
   "outputs": [],
   "source": [
    "from azureml.core import Workspace, Experiment\n",
    "from azureml.core.compute import ComputeTarget\n",
    "from azureml.core.runconfig import RunConfiguration\n",
    "from azureml.core.conda_dependencies import CondaDependencies\n",
    "from azureml.core.runconfig import DEFAULT_GPU_IMAGE\n",
    "from azureml.pipeline.core import Pipeline, PipelineParameter\n",
    "from azureml.pipeline.steps import PythonScriptStep\n",
    "from azureml.pipeline.core import PipelineParameter\n",
    "\n",
    "import warnings\n",
    "warnings.filterwarnings('ignore')"
   ]
  },
  {
   "cell_type": "markdown",
   "id": "b21c1491-c247-4c91-84da-3955c472dab8",
   "metadata": {},
   "source": [
    "### Connect to AML workspace and get reference to GPU training compute"
   ]
  },
  {
   "cell_type": "code",
   "execution_count": null,
   "id": "64f2538d-02eb-4ca0-b7b0-3d40800938ea",
   "metadata": {},
   "outputs": [],
   "source": [
    "ws = Workspace.from_config()\n",
    "cluster_name = 'automlimagescompute'\n",
    "compute_target = ComputeTarget(workspace=ws, name=cluster_name)"
   ]
  },
  {
   "cell_type": "markdown",
   "id": "5f24c0a6-82de-4bde-be86-bb449a40679a",
   "metadata": {},
   "source": [
    "### Create Run Configuration\n",
    "The `RunConfiguration` defines the environment used across all python steps. You can optionally add additional conda or pip packages to be added to your environment. [More details here](https://docs.microsoft.com/en-us/python/api/azureml-core/azureml.core.conda_dependencies.condadependencies?view=azure-ml-py).\n",
    "\n",
    "Here, we also register the environment to the AML workspace so that it can be used for future retraining and inferencing operations."
   ]
  },
  {
   "cell_type": "code",
   "execution_count": null,
   "id": "fefc2b2f-06c6-4bbf-b8ff-88826bac6fbc",
   "metadata": {},
   "outputs": [],
   "source": [
    "run_config = RunConfiguration()\n",
    "run_config.environment.docker.base_image = DEFAULT_GPU_IMAGE\n",
    "run_config.environment.python.conda_dependencies = CondaDependencies.create()\n",
    "run_config.environment.python.conda_dependencies.add_conda_package(\"numpy==1.18.5\")\n",
    "run_config.environment.python.conda_dependencies.add_conda_package(\"libffi=3.3\")\n",
    "run_config.environment.python.conda_dependencies.set_pip_requirements([\n",
    "    \"azureml-core==1.41.0\",\n",
    "    \"azureml-mlflow==1.41.0\",\n",
    "    \"azureml-dataset-runtime==1.41.0\",\n",
    "    \"azureml-telemetry==1.41.0\",\n",
    "    \"azureml-responsibleai==1.41.0\",\n",
    "    \"azureml-automl-core==1.41.0\",\n",
    "    \"azureml-automl-runtime==1.41.0\",\n",
    "    \"azureml-train-automl-client==1.41.0\",\n",
    "    \"azureml-defaults==1.41.0\",\n",
    "    \"azureml-interpret==1.41.0\",\n",
    "    \"azureml-train-automl-runtime==1.41.0\",\n",
    "    \"azureml-automl-dnn-vision==1.41.0\",\n",
    "    \"azureml-dataprep>=2.24.4\"\n",
    "])\n",
    "run_config.environment.python.conda_dependencies.set_python_version('3.7')\n",
    "run_config.environment.name = \"AutoMLForImagesEnv\"\n",
    "run_config.environment.register(ws)"
   ]
  },
  {
   "cell_type": "markdown",
   "id": "56e49189-3716-43a3-b59b-f7ed701a4461",
   "metadata": {},
   "source": [
    "### Define Pipeline Parameters\n",
    "`PipelineParameter` objects serve as variable inputs to an Azure ML pipeline and can be specified at runtime. Below we define the following parameters for our Azure ML Pipeline:\n",
    "\n",
    "| Parameter Name | Parameter Description |\n",
    "|----------------|-----------------------|\n",
    "| `model_name` | Name of the custom object detection model to be trained (used for model registration). |\n",
    "| `dataset_name` | The name of the dataset to be used for instance segmentation model training within the pipeline. |\n",
    "\n",
    "[PipelineParameter](https://docs.microsoft.com/en-us/python/api/azureml-pipeline-core/azureml.pipeline.core.graph.pipelineparameter?view=azure-ml-py)"
   ]
  },
  {
   "cell_type": "code",
   "execution_count": null,
   "id": "399d343b-69bf-4e87-831e-1b1594376fd7",
   "metadata": {},
   "outputs": [],
   "source": [
    "model_name = PipelineParameter(name='model_name', default_value='Street_Segmentation_Model')\n",
    "dataset_name = PipelineParameter(name='dataset_name', default_value='TRAIN_AML_Labeled_Street_Images')"
   ]
  },
  {
   "cell_type": "markdown",
   "id": "008b6a50-fcee-4f12-8d8a-44856d73ce15",
   "metadata": {},
   "source": [
    "### Define Pipeline Steps\n",
    "The pipeline below consists of a single step which executes an associated python script located in the `./pipeline_step_scripts` dir. In this step we call the script located at `./pipeline_step_scripts/automl_job.py` which retrieves an Image Dataset from the AML workspace (referenced by the `dataset_name` parameter and triggers execution of an AutoML for Images training job. Upon completion of this job, the trained model is automatically registered in the AML workspace according to the value provided in the `model_name` parameter.\n",
    "\n",
    "<i>Note:</i> The AutoML configuration settings can be modified inline by editing the `automl_job.py` file. Additionally, certain fields can be added as `PipelineParameters` and passed into the executed python script step. Finally, advanced logic to perform A/B testing against newly trained models and historical best-performers can be integrated into this step (or a secondary step) to ensure the registered model is always the best performer."
   ]
  },
  {
   "cell_type": "code",
   "execution_count": null,
   "id": "ed3279da-1015-4ae3-abda-1e9500de02c0",
   "metadata": {},
   "outputs": [],
   "source": [
    "submit_job_step = PythonScriptStep(\n",
    "    name='Submit AutoML Job',\n",
    "    script_name='automl_job.py',\n",
    "    arguments=[\n",
    "        '--model_name', model_name,\n",
    "        '--dataset_name', dataset_name,\n",
    "        '--compute_name', cluster_name,\n",
    "    ],\n",
    "    compute_target=compute_target,\n",
    "    source_directory='pipeline_step_scripts',\n",
    "    allow_reuse=False,\n",
    "    runconfig=run_config\n",
    ")"
   ]
  },
  {
   "cell_type": "markdown",
   "id": "f22d55da-a286-443e-8d58-f5c535f074fc",
   "metadata": {},
   "source": [
    "### Create Pipeline\n",
    "Pipelines are reusable in AML workflows that can be triggered in multiple ways (manual, programmatic, scheduled, etc.) Create an Azure ML Pipeline by specifying the pipeline steps to be executed.\n",
    "\n",
    "[What are Machine Learning Pipelines?](https://docs.microsoft.com/en-us/azure/machine-learning/concept-ml-pipelines)"
   ]
  },
  {
   "cell_type": "code",
   "execution_count": null,
   "id": "a6dc4388-b4b9-40c3-b563-26efa41fd0a4",
   "metadata": {},
   "outputs": [],
   "source": [
    "pipeline = Pipeline(workspace=ws, steps=[submit_job_step])"
   ]
  },
  {
   "cell_type": "markdown",
   "id": "2bab4cb2-6ebe-4fb7-8f17-b0ab98881967",
   "metadata": {},
   "source": [
    "### Create Published PipelineEndpoint\n",
    "`PipelineEndpoints` can be used to create a versions of published pipelines while maintaining a consistent endpoint. These endpoint URLs can be triggered remotely by submitting an authenticated request and updates to the underlying pipeline are tracked in the AML workspace.\n",
    "\n",
    "[PipelineEndpoint](https://docs.microsoft.com/en-us/python/api/azureml-pipeline-core/azureml.pipeline.core.pipeline_endpoint.pipelineendpoint?view=azure-ml-py)"
   ]
  },
  {
   "cell_type": "code",
   "execution_count": null,
   "id": "30b3be28-c778-4f98-a528-8b9352587e70",
   "metadata": {},
   "outputs": [],
   "source": [
    "from azureml.pipeline.core import PipelineEndpoint\n",
    "\n",
    "def published_pipeline_to_pipeline_endpoint(\n",
    "    workspace,\n",
    "    published_pipeline,\n",
    "    pipeline_endpoint_name,\n",
    "    pipeline_endpoint_description=\"AML Pipeline for training custom instance segmentation models using AutoML for Images.\",\n",
    "):\n",
    "    try:\n",
    "        pipeline_endpoint = PipelineEndpoint.get(\n",
    "            workspace=workspace, name=pipeline_endpoint_name\n",
    "        )\n",
    "        print(\"using existing PipelineEndpoint...\")\n",
    "        pipeline_endpoint.add_default(published_pipeline)\n",
    "    except Exception as ex:\n",
    "        print(ex)\n",
    "        # create PipelineEndpoint if it doesn't exist\n",
    "        print(\"PipelineEndpoint does not exist, creating one for you...\")\n",
    "        pipeline_endpoint = PipelineEndpoint.publish(\n",
    "            workspace=workspace,\n",
    "            name=pipeline_endpoint_name,\n",
    "            pipeline=published_pipeline,\n",
    "            description=pipeline_endpoint_description\n",
    "        )\n",
    "\n",
    "\n",
    "pipeline_endpoint_name = 'Instance Segmentation Model Training'\n",
    "pipeline_endpoint_description = 'Sample pipeline for training and registering a custom instance segmentation model'\n",
    "\n",
    "published_pipeline = pipeline.publish(name=pipeline_endpoint_name,\n",
    "                                     description=pipeline_endpoint_description,\n",
    "                                     continue_on_step_failure=False)\n",
    "\n",
    "published_pipeline_to_pipeline_endpoint(\n",
    "    workspace=ws,\n",
    "    published_pipeline=published_pipeline,\n",
    "    pipeline_endpoint_name=pipeline_endpoint_name,\n",
    "    pipeline_endpoint_description=pipeline_endpoint_description\n",
    ")"
   ]
  },
  {
   "cell_type": "markdown",
   "id": "c853ea81-79df-47e7-a415-160b762a0b47",
   "metadata": {},
   "source": [
    "### Optional: Trigger a Pipeline execution from the notebook\n",
    "You can create an Experiment (logical collection for runs) and submit a pipeline run directly from this notebook by running the commands below."
   ]
  },
  {
   "cell_type": "code",
   "execution_count": null,
   "id": "f439fa54-a48b-4f92-8c61-79055e7ec04a",
   "metadata": {},
   "outputs": [],
   "source": [
    "experiment = Experiment(ws, 'DEMO_AutoML_InstanceSegmentation')\n",
    "run = experiment.submit(pipeline)"
   ]
  }
 ],
 "metadata": {
  "kernelspec": {
   "display_name": "Python 3.8 - AzureML",
   "language": "python",
   "name": "python38-azureml"
  },
  "language_info": {
   "codemirror_mode": {
    "name": "ipython",
    "version": 3
   },
   "file_extension": ".py",
   "mimetype": "text/x-python",
   "name": "python",
   "nbconvert_exporter": "python",
   "pygments_lexer": "ipython3",
   "version": "3.8.5"
  }
 },
 "nbformat": 4,
 "nbformat_minor": 5
}
