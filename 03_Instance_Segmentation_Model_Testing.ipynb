{
 "cells": [
  {
   "cell_type": "code",
   "execution_count": 1,
   "id": "f10402e9-d86c-4e2b-b146-b3ec8153955c",
   "metadata": {},
   "outputs": [],
   "source": [
    "from azureml.core import Workspace, Experiment, Datastore, Environment, Dataset, Model, Run\n",
    "from azureml.core.compute import ComputeTarget, AmlCompute, DataFactoryCompute\n",
    "from azureml.core.compute_target import ComputeTargetException\n",
    "from azureml.core.runconfig import RunConfiguration\n",
    "from azureml.core.conda_dependencies import CondaDependencies\n",
    "from azureml.core.runconfig import DEFAULT_CPU_IMAGE, DEFAULT_GPU_IMAGE\n",
    "from azureml.pipeline.core import Pipeline, PipelineParameter, PipelineData\n",
    "from azureml.pipeline.steps import PythonScriptStep\n",
    "from azureml.pipeline.core import PipelineParameter, PipelineData\n",
    "from azureml.data.output_dataset_config import OutputTabularDatasetConfig, OutputDatasetConfig, OutputFileDatasetConfig\n",
    "from azureml.data.datapath import DataPath\n",
    "from azureml.data.data_reference import DataReference\n",
    "from azureml.data.sql_data_reference import SqlDataReference\n",
    "from azureml.pipeline.steps import DataTransferStep\n",
    "from datetime import datetime\n",
    "\n",
    "import warnings\n",
    "warnings.filterwarnings('ignore')"
   ]
  },
  {
   "cell_type": "code",
   "execution_count": 2,
   "id": "296091ff-99c5-4bb7-844f-ff926e63ba3b",
   "metadata": {},
   "outputs": [],
   "source": [
    "ws = Workspace.from_config()"
   ]
  },
  {
   "cell_type": "code",
   "execution_count": 3,
   "id": "2edf02c4-b0e2-4ac1-988e-43eaea5638c9",
   "metadata": {},
   "outputs": [
    {
     "name": "stdout",
     "output_type": "stream",
     "text": [
      "Downloading model Street_Segmentation_Model:2 to /tmp/azureml_0caaffbz/Street_Segmentation_Model/2\n",
      "Generating Docker build context.\n",
      "Package creation Succeeded\n",
      "Logging into Docker registry 0a0e57407315484eb0d6cb59bfead822.azurecr.io\n",
      "Logging into Docker registry 0a0e57407315484eb0d6cb59bfead822.azurecr.io\n",
      "Building Docker image from Dockerfile...\n",
      "Step 1/5 : FROM 0a0e57407315484eb0d6cb59bfead822.azurecr.io/azureml/azureml_b5850de23fb6599558e87c4b9e562b6e\n",
      " ---> 3f41b005ce0f\n",
      "Step 2/5 : COPY azureml-app /var/azureml-app\n",
      " ---> d0b24a678add\n",
      "Step 3/5 : RUN mkdir -p '/var/azureml-app' && echo eyJhY2NvdW50Q29udGV4dCI6eyJzdWJzY3JpcHRpb25JZCI6ImYzZTM4YWFhLWRkOWMtNGYxNy05NWMxLWVmM2ZmNDcyZGE2MSIsInJlc291cmNlR3JvdXBOYW1lIjoiY3ViaWNfaGFja2F0aG9uX3JnIiwiYWNjb3VudE5hbWUiOiJjdWJpYy1oYWNrLWFtbC13cyIsIndvcmtzcGFjZUlkIjoiMGEwZTU3NDAtNzMxNS00ODRlLWIwZDYtY2I1OWJmZWFkODIyIn0sIm1vZGVscyI6e30sIm1vZGVsc0luZm8iOnt9fQ== | base64 --decode > /var/azureml-app/model_config_map.json\n",
      " ---> Running in 683f0d155b68\n",
      " ---> 860e42006e6a\n",
      "Step 4/5 : RUN mv '/var/azureml-app/tmp7mdmhwno.py' /var/azureml-app/main.py\n",
      " ---> Running in a691c4a793eb\n",
      " ---> 01a7421a8172\n",
      "Step 5/5 : CMD [\"runsvdir\",\"/var/runit\"]\n",
      " ---> Running in 2a22459f5166\n",
      " ---> 490ea78852bf\n",
      "Successfully built 490ea78852bf\n",
      "Successfully tagged automl-image-test:latest\n",
      "Container (name:mystifying_williamson, id:b38fc523772a8862389fcae3d634a168aadb9744664ba14e266679b18b8e3807) cannot be killed.\n",
      "Container has been successfully cleaned up.\n",
      "Image sha256:35c9b1e76d61e6b730ea884bae100bf34bd25eb788971a72024ee7ca035a429d successfully removed.\n",
      "Starting Docker container...\n",
      "Docker container running.\n",
      "Checking container health...\n",
      "Local webservice is running at http://localhost:6789\n",
      "running\n"
     ]
    }
   ],
   "source": [
    "from azureml.core.model import InferenceConfig\n",
    "from azureml.core.webservice import AksWebservice, LocalWebservice\n",
    "from azureml.core.webservice import Webservice\n",
    "from azureml.core.model import Model\n",
    "from azureml.core.environment import Environment\n",
    "\n",
    "model_name = 'Street_Segmentation_Model'\n",
    "\n",
    "model_list = Model.list(ws, model_name)\n",
    "best_child_run_id = model_list[0].run_id\n",
    "best_child_run = Run.get(ws, best_child_run_id)\n",
    "model_list[0].download(exist_ok=True)\n",
    "model = model_list[0]\n",
    "environment = Environment.from_conda_specification('instancesegmentationenv', './automl_outputs/conda_env.yml')\n",
    "inference_config = InferenceConfig(entry_script='score.py', environment=environment, source_directory='./automl_outputs') # model_path = './automl_outputs/outputs/model.pt'\n",
    "\n",
    "deployment_config = LocalWebservice.deploy_configuration(port=6789)\n",
    "\n",
    "local_service = Model.deploy(ws,\n",
    "                           models=[model],\n",
    "                           inference_config=inference_config,\n",
    "                           deployment_config=deployment_config,\n",
    "                           name='automl-image-test',\n",
    "                           overwrite=True)\n",
    "local_service.wait_for_deployment(show_output=False)\n",
    "print(local_service.state)"
   ]
  },
  {
   "cell_type": "code",
   "execution_count": null,
   "id": "9f1e08b5-56ba-43a2-ad63-ebccdfae07ae",
   "metadata": {},
   "outputs": [],
   "source": []
  },
  {
   "cell_type": "code",
   "execution_count": null,
   "id": "6b257b8c-d7c0-41ec-a4ae-68d0e9c412bf",
   "metadata": {},
   "outputs": [],
   "source": []
  }
 ],
 "metadata": {
  "kernelspec": {
   "display_name": "Python 3.8 - AzureML",
   "language": "python",
   "name": "python38-azureml"
  },
  "language_info": {
   "codemirror_mode": {
    "name": "ipython",
    "version": 3
   },
   "file_extension": ".py",
   "mimetype": "text/x-python",
   "name": "python",
   "nbconvert_exporter": "python",
   "pygments_lexer": "ipython3",
   "version": "3.8.5"
  }
 },
 "nbformat": 4,
 "nbformat_minor": 5
}
