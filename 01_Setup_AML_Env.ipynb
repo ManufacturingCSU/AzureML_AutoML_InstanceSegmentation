{
 "cells": [
  {
   "cell_type": "code",
   "execution_count": null,
   "metadata": {},
   "outputs": [],
   "source": [
    "from azureml.core import Workspace, Experiment, Datastore, Dataset\n",
    "from azureml.data import DataType\n",
    "from azureml.core.compute import ComputeTarget, AmlCompute\n",
    "from azureml.core.compute_target import ComputeTargetException\n",
    "from azureml.core.runconfig import RunConfiguration\n",
    "from azureml.core.conda_dependencies import CondaDependencies\n",
    "from azureml.core.runconfig import DEFAULT_GPU_IMAGE\n",
    "from azureml.pipeline.core import Pipeline, PipelineParameter\n",
    "from azureml.pipeline.steps import PythonScriptStep\n",
    "from azureml.pipeline.core import PipelineParameter, PipelineEndpoint\n",
    "import os"
   ]
  },
  {
   "cell_type": "code",
   "execution_count": null,
   "metadata": {},
   "outputs": [],
   "source": [
    "ws = Workspace.from_config()"
   ]
  },
  {
   "cell_type": "code",
   "execution_count": null,
   "metadata": {},
   "outputs": [],
   "source": [
    "cluster_name = 'automlimagescompute'\n",
    "# compute_target = ws.compute_targets[cluster_name]\n",
    "try:\n",
    "    compute_target = ComputeTarget(workspace=ws, name=cluster_name)\n",
    "    print(\"Found existing compute target.\")\n",
    "except ComputeTargetException:\n",
    "    print(\"Creating a new compute target...\")\n",
    "    compute_config = AmlCompute.provisioning_configuration(\n",
    "        vm_size='Standard_NC6',\n",
    "        idle_seconds_before_scaledown=120,\n",
    "        min_nodes=0,\n",
    "        max_nodes=3,\n",
    "    )\n",
    "    compute_target = ComputeTarget.create(ws, cluster_name, compute_config)\n",
    "    # Can poll for a minimum number of nodes and for a specific timeout.\n",
    "    # If no min_node_count is provided, it will use the scale settings for the cluster.\n",
    "    compute_target.wait_for_completion(\n",
    "        show_output=True, min_node_count=None, timeout_in_minutes=20\n",
    "    )\n",
    "    "
   ]
  },
  {
   "cell_type": "code",
   "execution_count": null,
   "metadata": {},
   "outputs": [],
   "source": [
    "default_ds = ws.get_default_datastore()"
   ]
  },
  {
   "cell_type": "code",
   "execution_count": null,
   "metadata": {},
   "outputs": [],
   "source": [
    "new_container_name = 'streetimagestore'\n",
    "default_ds.blob_service.create_container(new_container_name)\n",
    "\n",
    "try:\n",
    "    imagestore = Datastore.get(ws, new_container_name)\n",
    "    print(\"Found Blob Datastore with name: %s\" % new_container_name)\n",
    "except Exception:\n",
    "    imagestore = Datastore.register_azure_blob_container(\n",
    "     workspace=ws,\n",
    "        datastore_name = new_container_name, \n",
    "        account_name = default_ds.account_name,\n",
    "        container_name = new_container_name,\n",
    "        account_key = default_ds.account_key)\n",
    "    print(\"Registered blob datastore with name: %s\" % new_container_name)\n",
    "\n",
    "# Upload images to new datastore\n",
    "imagestore.upload('./sample_images', 'aml_images', overwrite=True, show_progress=True)"
   ]
  },
  {
   "cell_type": "code",
   "execution_count": null,
   "metadata": {},
   "outputs": [],
   "source": [
    "default_ds.upload('./aml_annotations', 'labeled_image_files', overwrite=True, show_progress=True)\n",
    "\n",
    "train_image_dataset = Dataset.Tabular.from_json_lines_files(path=(default_ds, 'labeled_image_files/labeled_images_train.jsonl'), set_column_types={\"image_url\": DataType.to_stream(imagestore.workspace)})\n",
    "train_image_dataset.register(ws, 'TRAIN_AML_Labeled_Street_Images', create_new_version=True)\n",
    "\n",
    "test_image_dataset = Dataset.Tabular.from_json_lines_files(path=(default_ds, 'labeled_image_files/labeled_images_test.jsonl'), set_column_types={\"image_url\": DataType.to_stream(imagestore.workspace)})\n",
    "test_image_dataset.register(ws, 'TEST_AML_Labeled_Street_Images', create_new_version=True)"
   ]
  }
 ],
 "metadata": {
  "kernel_info": {
   "name": "python38-azureml"
  },
  "kernelspec": {
   "display_name": "Python 3.8 - AzureML",
   "language": "python",
   "name": "python38-azureml"
  },
  "language_info": {
   "codemirror_mode": {
    "name": "ipython",
    "version": 3
   },
   "file_extension": ".py",
   "mimetype": "text/x-python",
   "name": "python",
   "nbconvert_exporter": "python",
   "pygments_lexer": "ipython3",
   "version": "3.8.5"
  },
  "nteract": {
   "version": "nteract-front-end@1.0.0"
  }
 },
 "nbformat": 4,
 "nbformat_minor": 4
}
