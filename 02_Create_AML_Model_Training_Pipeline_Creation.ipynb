{
 "cells": [
  {
   "cell_type": "code",
   "execution_count": null,
   "id": "6e654495-da23-4b48-bd7e-58b7f9296214",
   "metadata": {},
   "outputs": [],
   "source": [
    "from azureml.core import Workspace, Experiment, Datastore, Environment, Dataset, Model\n",
    "from azureml.core.compute import ComputeTarget, AmlCompute, DataFactoryCompute\n",
    "from azureml.core.compute_target import ComputeTargetException\n",
    "from azureml.core.runconfig import RunConfiguration\n",
    "from azureml.core.conda_dependencies import CondaDependencies\n",
    "from azureml.core.runconfig import DEFAULT_CPU_IMAGE, DEFAULT_GPU_IMAGE\n",
    "from azureml.pipeline.core import Pipeline, PipelineParameter, PipelineData\n",
    "from azureml.pipeline.steps import PythonScriptStep\n",
    "from azureml.pipeline.core import PipelineParameter, PipelineData\n",
    "from azureml.data.output_dataset_config import OutputTabularDatasetConfig, OutputDatasetConfig, OutputFileDatasetConfig\n",
    "from azureml.data.datapath import DataPath\n",
    "from azureml.data.data_reference import DataReference\n",
    "from azureml.data.sql_data_reference import SqlDataReference\n",
    "from azureml.pipeline.steps import DataTransferStep\n",
    "from datetime import datetime\n",
    "\n",
    "import warnings\n",
    "warnings.filterwarnings('ignore')"
   ]
  },
  {
   "cell_type": "code",
   "execution_count": null,
   "id": "64f2538d-02eb-4ca0-b7b0-3d40800938ea",
   "metadata": {},
   "outputs": [],
   "source": [
    "ws = Workspace.from_config()\n",
    "cluster_name = 'automlimagescompute'\n",
    "compute_target = ComputeTarget(workspace=ws, name=cluster_name)"
   ]
  },
  {
   "cell_type": "code",
   "execution_count": null,
   "id": "fefc2b2f-06c6-4bbf-b8ff-88826bac6fbc",
   "metadata": {},
   "outputs": [],
   "source": [
    "run_config = RunConfiguration()\n",
    "run_config.environment.docker.base_image = DEFAULT_GPU_IMAGE\n",
    "run_config.environment.python.conda_dependencies = CondaDependencies.create()\n",
    "run_config.environment.python.conda_dependencies.add_conda_package(\"numpy==1.18.5\")\n",
    "run_config.environment.python.conda_dependencies.add_conda_package(\"libffi=3.3\")\n",
    "run_config.environment.python.conda_dependencies.set_pip_requirements([\n",
    "    \"azureml-core==1.41.0\",\n",
    "    \"azureml-mlflow==1.41.0\",\n",
    "    \"azureml-dataset-runtime==1.41.0\",\n",
    "    \"azureml-telemetry==1.41.0\",\n",
    "    \"azureml-responsibleai==1.41.0\",\n",
    "    \"azureml-automl-core==1.41.0\",\n",
    "    \"azureml-automl-runtime==1.41.0\",\n",
    "    \"azureml-train-automl-client==1.41.0\",\n",
    "    \"azureml-defaults==1.41.0\",\n",
    "    \"azureml-interpret==1.41.0\",\n",
    "    \"azureml-train-automl-runtime==1.41.0\",\n",
    "    \"azureml-automl-dnn-vision==1.41.0\",\n",
    "    \"azureml-dataprep>=2.24.4\"\n",
    "])\n",
    "run_config.environment.python.conda_dependencies.set_python_version('3.7')\n",
    "run_config.environment.name = \"AutoMLForImagesEnv\"\n",
    "run_config.environment.register(ws)"
   ]
  },
  {
   "cell_type": "code",
   "execution_count": null,
   "id": "399d343b-69bf-4e87-831e-1b1594376fd7",
   "metadata": {},
   "outputs": [],
   "source": [
    "model_name = PipelineParameter(name='model_name', default_value='Street_Segmentation_Model')\n",
    "dataset_name = PipelineParameter(name='dataset_name', default_value='TRAIN_AML_Labeled_Street_Images')"
   ]
  },
  {
   "cell_type": "code",
   "execution_count": null,
   "id": "ed3279da-1015-4ae3-abda-1e9500de02c0",
   "metadata": {},
   "outputs": [],
   "source": [
    "submit_job_step = PythonScriptStep(\n",
    "    name='Submit AutoML Job',\n",
    "    script_name='automl_job.py',\n",
    "    arguments=[\n",
    "        '--model_name', model_name,\n",
    "        '--dataset_name', dataset_name,\n",
    "        '--compute_name', 'automlimagescompute',\n",
    "    ],\n",
    "    compute_target=compute_target,\n",
    "    source_directory='pipeline_step_scripts',\n",
    "    allow_reuse=False,\n",
    "    runconfig=run_config\n",
    ")"
   ]
  },
  {
   "cell_type": "code",
   "execution_count": null,
   "id": "a6dc4388-b4b9-40c3-b563-26efa41fd0a4",
   "metadata": {},
   "outputs": [],
   "source": [
    "pipeline = Pipeline(workspace=ws, steps=[submit_job_step])"
   ]
  },
  {
   "cell_type": "code",
   "execution_count": null,
   "id": "30b3be28-c778-4f98-a528-8b9352587e70",
   "metadata": {},
   "outputs": [],
   "source": [
    "from azureml.pipeline.core import PipelineEndpoint\n",
    "\n",
    "def published_pipeline_to_pipeline_endpoint(\n",
    "    workspace,\n",
    "    published_pipeline,\n",
    "    pipeline_endpoint_name,\n",
    "    pipeline_endpoint_description=\"AML Pipeline for training custom instance segmentation models using AutoML for Images.\",\n",
    "):\n",
    "    try:\n",
    "        pipeline_endpoint = PipelineEndpoint.get(\n",
    "            workspace=workspace, name=pipeline_endpoint_name\n",
    "        )\n",
    "        print(\"using existing PipelineEndpoint...\")\n",
    "        pipeline_endpoint.add_default(published_pipeline)\n",
    "    except Exception as ex:\n",
    "        print(ex)\n",
    "        # create PipelineEndpoint if it doesn't exist\n",
    "        print(\"PipelineEndpoint does not exist, creating one for you...\")\n",
    "        pipeline_endpoint = PipelineEndpoint.publish(\n",
    "            workspace=workspace,\n",
    "            name=pipeline_endpoint_name,\n",
    "            pipeline=published_pipeline,\n",
    "            description=pipeline_endpoint_description\n",
    "        )\n",
    "\n",
    "\n",
    "pipeline_endpoint_name = 'Instance Segmentation Model Training'\n",
    "pipeline_endpoint_description = 'Sample pipeline for training and registering a custom instance segmentation model'\n",
    "\n",
    "published_pipeline = pipeline.publish(name=pipeline_endpoint_name,\n",
    "                                     description=pipeline_endpoint_description,\n",
    "                                     continue_on_step_failure=False)\n",
    "\n",
    "published_pipeline_to_pipeline_endpoint(\n",
    "    workspace=ws,\n",
    "    published_pipeline=published_pipeline,\n",
    "    pipeline_endpoint_name=pipeline_endpoint_name,\n",
    "    pipeline_endpoint_description=pipeline_endpoint_description\n",
    ")"
   ]
  },
  {
   "cell_type": "code",
   "execution_count": null,
   "id": "f439fa54-a48b-4f92-8c61-79055e7ec04a",
   "metadata": {},
   "outputs": [],
   "source": [
    "experiment = Experiment(ws, 'DEMO_AutoML_InstanceSegmentation')\n",
    "run = experiment.submit(pipeline)"
   ]
  }
 ],
 "metadata": {
  "kernelspec": {
   "display_name": "Python 3.8 - AzureML",
   "language": "python",
   "name": "python38-azureml"
  },
  "language_info": {
   "codemirror_mode": {
    "name": "ipython",
    "version": 3
   },
   "file_extension": ".py",
   "mimetype": "text/x-python",
   "name": "python",
   "nbconvert_exporter": "python",
   "pygments_lexer": "ipython3",
   "version": "3.8.5"
  }
 },
 "nbformat": 4,
 "nbformat_minor": 5
}
